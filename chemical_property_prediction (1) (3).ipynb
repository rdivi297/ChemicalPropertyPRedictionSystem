{
  "nbformat": 4,
  "nbformat_minor": 0,
  "metadata": {
    "colab": {
      "provenance": []
    },
    "kernelspec": {
      "name": "python3",
      "display_name": "Python 3"
    },
    "language_info": {
      "name": "python"
    }
  },
  "cells": [
    {
      "cell_type": "code",
      "execution_count": null,
      "metadata": {
        "id": "JQMcIVcPOX7n"
      },
      "outputs": [],
      "source": [
        "import numpy as np\n",
        "import pandas as pd"
      ]
    },
    {
      "cell_type": "code",
      "source": [
        "df=pd.read_pickle('/content/finalDataOfCommonAcidsBases&Salts_withGraphs.pkl')\n",
        "df.head()\n",
        "df['Solubility']"
      ],
      "metadata": {
        "id": "mejJjNE1OdxI",
        "colab": {
          "base_uri": "https://localhost:8080/"
        },
        "outputId": "4e03e436-17e9-4dd8-c278-ca4e6cd89d34"
      },
      "execution_count": null,
      "outputs": [
        {
          "output_type": "execute_result",
          "data": {
            "text/plain": [
              "0                       82.3 g/100 g at 32 °F (NTP, 1992)\n",
              "1                                   277000mg/L (at 25 °C)\n",
              "2       greater than or equal to 100 mg/mL at 70 °F (N...\n",
              "3                                    0.745g/mL (at 20 °C)\n",
              "4                                                    None\n",
              "                              ...                        \n",
              "2400          Soluble in water, diethyl ether and acetone\n",
              "2401        Freely soluble in water; insoluble in alcohol\n",
              "2402    greater than or equal to 100 mg/mL at 68 °F (N...\n",
              "2403    SOL IN WATER, ALC, ETHER, CARBON DISULFIDE, AC...\n",
              "2404                                   1g/ 7.5 ml at 25ºC\n",
              "Name: Solubility, Length: 2405, dtype: object"
            ]
          },
          "metadata": {},
          "execution_count": 2
        }
      ]
    },
    {
      "cell_type": "code",
      "source": [
        "all_columns = df.columns.tolist()\n",
        "print(all_columns)"
      ],
      "metadata": {
        "id": "3zqe6YDnQqa7",
        "colab": {
          "base_uri": "https://localhost:8080/"
        },
        "outputId": "dc2591c9-3ff7-4d5f-85a0-798277cbca4d"
      },
      "execution_count": null,
      "outputs": [
        {
          "output_type": "stream",
          "name": "stdout",
          "text": [
            "['Chemical_name', 'Category', 'SMILES', 'MolWt', 'ExactMolWt', 'NumValenceElectrons', 'NumRadicalElectrons', 'MaxPartialCharge', 'MinPartialCharge', 'MaxAbsPartialCharge', 'MinAbsPartialCharge', 'FpDensityMorgan1', 'FpDensityMorgan2', 'FpDensityMorgan3', 'BalabanJ', 'BertzCT', 'HallKierAlpha', 'Kappa1', 'Kappa2', 'Kappa3', 'Chi0', 'Chi0n', 'Chi0v', 'Chi1', 'Chi1n', 'Chi1v', 'Chi2n', 'Chi2v', 'Chi3n', 'Chi3v', 'Chi4n', 'Chi4v', 'MeltingPoint', 'BoilingPoint', 'Solubility', 'Graph']\n"
          ]
        }
      ]
    },
    {
      "cell_type": "code",
      "source": [
        "df.drop_duplicates(subset=['Chemical_name'], keep='first', inplace=True)\n",
        "columns_to_fill = ['MolWt', 'ExactMolWt', 'NumValenceElectrons', 'NumRadicalElectrons',\n",
        "                   'MaxPartialCharge', 'MinPartialCharge', 'MaxAbsPartialCharge',\n",
        "                   'MinAbsPartialCharge', 'FpDensityMorgan1', 'FpDensityMorgan2',\n",
        "                   'FpDensityMorgan3', 'BalabanJ', 'BertzCT', 'HallKierAlpha',\n",
        "                   'Kappa1', 'Kappa2', 'Kappa3', 'Chi0', 'Chi0n', 'Chi0v', 'Chi1',\n",
        "                   'Chi1n', 'Chi1v', 'Chi2n', 'Chi2v', 'Chi3n', 'Chi3v', 'Chi4n',\n",
        "                   'Chi4v',]\n",
        "\n",
        "# Handle missing values by using median or mean\n",
        "\n",
        "for col in columns_to_fill:\n",
        "    if df[col].isnull().any():\n",
        "        median_value = df[col].median()\n",
        "        df[col].fillna(median_value, inplace=True)\n",
        "print(len(df))"
      ],
      "metadata": {
        "id": "Fzg4PSU3P1iR",
        "colab": {
          "base_uri": "https://localhost:8080/"
        },
        "outputId": "971fcdcf-f495-4b31-e270-763c72307861"
      },
      "execution_count": null,
      "outputs": [
        {
          "output_type": "stream",
          "name": "stdout",
          "text": [
            "1004\n"
          ]
        }
      ]
    },
    {
      "cell_type": "code",
      "source": [
        "#preprocessing mp and bp\n",
        "import pandas as pd\n",
        "from sklearn.impute import KNNImputer\n",
        "import re\n",
        "\n",
        "def convert_to_kelvin(sentence):\n",
        "    pattern = r'(-?\\d+(\\.\\d+)?)\\s?(°[CFK])'\n",
        "\n",
        "    sentence = str(sentence)\n",
        "    matches = re.findall(pattern, sentence)\n",
        "\n",
        "\n",
        "    converted_values = []\n",
        "    for value, _, unit in matches:\n",
        "        value = float(value)\n",
        "        if unit == '°C':\n",
        "            value += 273.15\n",
        "        elif unit == '°F':\n",
        "            value = (value - 32) * 5 / 9 + 273.15\n",
        "        converted_values.append(value)\n",
        "    if converted_values:\n",
        "        return converted_values[0]\n",
        "    else:\n",
        "        return None\n",
        "\n",
        "df['MeltingPoint_K'] = df['MeltingPoint'].apply(convert_to_kelvin)\n",
        "\n",
        "df['BoilingPoint_K'] = df['BoilingPoint'].apply(convert_to_kelvin)\n",
        "\n",
        "imputer = KNNImputer(n_neighbors=5)\n",
        "df[['MeltingPoint_K', 'BoilingPoint_K']] = imputer.fit_transform(df[['MeltingPoint_K', 'BoilingPoint_K']])\n",
        "\n",
        "print(df.head())\n",
        "print(len(df))\n",
        "print(df.columns.to_list)\n",
        "p=df.copy()\n"
      ],
      "metadata": {
        "id": "mOzxxcMpTe_V",
        "colab": {
          "base_uri": "https://localhost:8080/"
        },
        "outputId": "ecbfc617-31eb-481d-82fd-43f2dcf5e50a"
      },
      "execution_count": null,
      "outputs": [
        {
          "output_type": "stream",
          "name": "stdout",
          "text": [
            "               Chemical_name Category                                  SMILES  \\\n",
            "0          Hydrochloric acid     acid                                      Cl   \n",
            "1           (R)-(+)-Cysteine     acid                     C([C@@H](C(=O)O)N)S   \n",
            "2                Formic acid     acid                                  C(=O)O   \n",
            "3           Calcium chloride     salt                      [Cl-].[Cl-].[Ca+2]   \n",
            "4  Phosphazene base P1-t-Oct     base  CC(C)(C)CC(C)(C)N=P(N(C)C)(N(C)C)N(C)C   \n",
            "\n",
            "   NumRadicalElectrons  MinPartialCharge    Kappa2     Kappa3  \\\n",
            "0                  0.0         -0.146589  1.738276  10.083103   \n",
            "1                  0.0         -0.480064  2.872925   2.472042   \n",
            "2                  0.0         -0.483467  1.470000   1.470000   \n",
            "3                  0.0         -1.000000  9.148419   3.839740   \n",
            "4                  0.0         -0.254411  6.256538   5.184275   \n",
            "\n",
            "                                        MeltingPoint  \\\n",
            "0  -174.6 °F (Melting point is -13.7 °F for a 39....   \n",
            "1                                          240dec °C   \n",
            "2                                47.1 °F (NTP, 1992)   \n",
            "3                                              782°C   \n",
            "4                                               None   \n",
            "\n",
            "                       BoilingPoint  \\\n",
            "0   123 °F at 760 mmHg (USCG, 1999)   \n",
            "1                              None   \n",
            "2  213.3 °F at 760 mmHg (NTP, 1992)   \n",
            "3                           1935 °C   \n",
            "4                              None   \n",
            "\n",
            "                                          Solubility  \\\n",
            "0                  82.3 g/100 g at 32 °F (NTP, 1992)   \n",
            "1                              277000mg/L (at 25 °C)   \n",
            "2  greater than or equal to 100 mg/mL at 70 °F (N...   \n",
            "3                               0.745g/mL (at 20 °C)   \n",
            "4                                               None   \n",
            "\n",
            "                                               Graph  MeltingPoint_K  \\\n",
            "0  \\n     RDKit          2D\\n\\n  1  0  0  0  0  0...      158.372222   \n",
            "1  \\n     RDKit          2D\\n\\n  7  6  0  0  0  0...      563.729153   \n",
            "2  \\n     RDKit          2D\\n\\n  3  2  0  0  0  0...      281.538889   \n",
            "3  \\n     RDKit          2D\\n\\n  3  0  0  0  0  0...     1055.150000   \n",
            "4  \\n     RDKit          2D\\n\\n 19 18  0  0  0  0...      563.729153   \n",
            "\n",
            "   BoilingPoint_K  \n",
            "0      323.705556  \n",
            "1      746.612546  \n",
            "2      373.872222  \n",
            "3     2208.150000  \n",
            "4      746.612546  \n",
            "1004\n",
            "<bound method IndexOpsMixin.tolist of Index(['Chemical_name', 'Category', 'SMILES', 'NumRadicalElectrons',\n",
            "       'MinPartialCharge', 'Kappa2', 'Kappa3', 'MeltingPoint', 'BoilingPoint',\n",
            "       'Solubility', 'Graph', 'MeltingPoint_K', 'BoilingPoint_K'],\n",
            "      dtype='object')>\n"
          ]
        }
      ]
    },
    {
      "cell_type": "code",
      "source": [
        "print(p.columns.to_list)\n"
      ],
      "metadata": {
        "id": "RmCAZQxNJVy_"
      },
      "execution_count": null,
      "outputs": []
    },
    {
      "cell_type": "code",
      "source": [
        "# Select only numeric columns for correlation computation\n",
        "numeric_df = df.select_dtypes(include=['float64', 'int64'])\n",
        "\n",
        "# Compute correlation matrix\n",
        "corr_matrix = numeric_df.corr()\n",
        "\n",
        "# Set threshold for correlation\n",
        "threshold = 0.4\n",
        "\n",
        "# Find pairs of highly correlated columns\n",
        "high_corr_pairs = (corr_matrix.abs() > threshold) & (corr_matrix != 1)\n",
        "\n",
        "# Initialize a set to store columns to drop\n",
        "columns_to_drop = set()\n",
        "\n",
        "# Iterate over columns in the DataFrame\n",
        "for col in high_corr_pairs.columns:\n",
        "    # Get correlated columns for the current column\n",
        "    correlated_cols = list(high_corr_pairs.index[high_corr_pairs[col]])\n",
        "\n",
        "    # Add correlated columns to the set of columns to drop\n",
        "    for correlated_col in correlated_cols:\n",
        "        columns_to_drop.add(correlated_col)\n",
        "\n",
        "# Drop the highly correlated columns from the DataFrame\n",
        "df.drop(columns=columns_to_drop, inplace=True)\n",
        "\n",
        "# Get all remaining columns\n",
        "all_columns = df.columns.tolist()\n",
        "\n",
        "# Print the remaining columns\n",
        "print(all_columns)\n",
        "print(p.head())\n"
      ],
      "metadata": {
        "id": "ThZ301sCWISp",
        "colab": {
          "base_uri": "https://localhost:8080/"
        },
        "outputId": "b43a5b72-8534-49a0-a806-17305f9a02f8"
      },
      "execution_count": null,
      "outputs": [
        {
          "output_type": "stream",
          "name": "stdout",
          "text": [
            "['Chemical_name', 'Category', 'SMILES', 'NumRadicalElectrons', 'MinPartialCharge', 'Kappa2', 'Kappa3', 'MeltingPoint', 'BoilingPoint', 'Solubility', 'Graph']\n",
            "               Chemical_name Category                                  SMILES  \\\n",
            "0          Hydrochloric acid     acid                                      Cl   \n",
            "1           (R)-(+)-Cysteine     acid                     C([C@@H](C(=O)O)N)S   \n",
            "2                Formic acid     acid                                  C(=O)O   \n",
            "3           Calcium chloride     salt                      [Cl-].[Cl-].[Ca+2]   \n",
            "4  Phosphazene base P1-t-Oct     base  CC(C)(C)CC(C)(C)N=P(N(C)C)(N(C)C)N(C)C   \n",
            "\n",
            "   NumRadicalElectrons  MinPartialCharge    Kappa2     Kappa3  \\\n",
            "0                  0.0         -0.146589  1.738276  10.083103   \n",
            "1                  0.0         -0.480064  2.872925   2.472042   \n",
            "2                  0.0         -0.483467  1.470000   1.470000   \n",
            "3                  0.0         -1.000000  9.148419   3.839740   \n",
            "4                  0.0         -0.254411  6.256538   5.184275   \n",
            "\n",
            "                                        MeltingPoint  \\\n",
            "0  -174.6 °F (Melting point is -13.7 °F for a 39....   \n",
            "1                                          240dec °C   \n",
            "2                                47.1 °F (NTP, 1992)   \n",
            "3                                              782°C   \n",
            "4                                               None   \n",
            "\n",
            "                       BoilingPoint  \\\n",
            "0   123 °F at 760 mmHg (USCG, 1999)   \n",
            "1                              None   \n",
            "2  213.3 °F at 760 mmHg (NTP, 1992)   \n",
            "3                           1935 °C   \n",
            "4                              None   \n",
            "\n",
            "                                          Solubility  \\\n",
            "0                  82.3 g/100 g at 32 °F (NTP, 1992)   \n",
            "1                              277000mg/L (at 25 °C)   \n",
            "2  greater than or equal to 100 mg/mL at 70 °F (N...   \n",
            "3                               0.745g/mL (at 20 °C)   \n",
            "4                                               None   \n",
            "\n",
            "                                               Graph  \n",
            "0  \\n     RDKit          2D\\n\\n  1  0  0  0  0  0...  \n",
            "1  \\n     RDKit          2D\\n\\n  7  6  0  0  0  0...  \n",
            "2  \\n     RDKit          2D\\n\\n  3  2  0  0  0  0...  \n",
            "3  \\n     RDKit          2D\\n\\n  3  0  0  0  0  0...  \n",
            "4  \\n     RDKit          2D\\n\\n 19 18  0  0  0  0...  \n"
          ]
        }
      ]
    },
    {
      "cell_type": "code",
      "source": [
        "print(p)\n"
      ],
      "metadata": {
        "colab": {
          "base_uri": "https://localhost:8080/"
        },
        "id": "_xPctgCrKAJ6",
        "outputId": "eadc42e3-5bd3-4575-9a6b-bcec1d22b84d"
      },
      "execution_count": null,
      "outputs": [
        {
          "output_type": "stream",
          "name": "stdout",
          "text": [
            "                       Chemical_name Category  \\\n",
            "0                  Hydrochloric acid     acid   \n",
            "1                   (R)-(+)-Cysteine     acid   \n",
            "2                        Formic acid     acid   \n",
            "3                   Calcium chloride     salt   \n",
            "4          Phosphazene base P1-t-Oct     base   \n",
            "...                              ...      ...   \n",
            "2381  Bromodichloroacetic acid-1-13C     acid   \n",
            "2382   Magnesium sulfate monohydrate     salt   \n",
            "2393       Potassium thiocyanate-13C     salt   \n",
            "2397               di-Boron trioxide     salt   \n",
            "2400                 Thioacetic acid     acid   \n",
            "\n",
            "                                      SMILES  NumRadicalElectrons  \\\n",
            "0                                         Cl                  0.0   \n",
            "1                        C([C@@H](C(=O)O)N)S                  0.0   \n",
            "2                                     C(=O)O                  0.0   \n",
            "3                         [Cl-].[Cl-].[Ca+2]                  0.0   \n",
            "4     CC(C)(C)CC(C)(C)N=P(N(C)C)(N(C)C)N(C)C                  0.0   \n",
            "...                                      ...                  ...   \n",
            "2381                                    None                  0.0   \n",
            "2382              O.[O-]S(=O)(=O)[O-].[Mg+2]                  0.0   \n",
            "2393                      [13C](#N)[S-].[K+]                  0.0   \n",
            "2397                                    None                  0.0   \n",
            "2400                                 CC(=O)S                  0.0   \n",
            "\n",
            "      MinPartialCharge    Kappa2       Kappa3  \\\n",
            "0            -0.146589  1.738276    10.083103   \n",
            "1            -0.480064  2.872925     2.472042   \n",
            "2            -0.483467  1.470000     1.470000   \n",
            "3            -1.000000  9.148419     3.839740   \n",
            "4            -0.254411  6.256538     5.184275   \n",
            "...                ...       ...          ...   \n",
            "2381         -0.543498  5.081626    10.020000   \n",
            "2382         -0.758769  4.747835   391.982900   \n",
            "2393         -0.695798  8.840599    10.163400   \n",
            "2397         -0.543498  5.081626    10.020000   \n",
            "2400         -0.287827  1.351126  5254.020000   \n",
            "\n",
            "                                           MeltingPoint  \\\n",
            "0     -174.6 °F (Melting point is -13.7 °F for a 39....   \n",
            "1                                             240dec °C   \n",
            "2                                   47.1 °F (NTP, 1992)   \n",
            "3                                                 782°C   \n",
            "4                                                  None   \n",
            "...                                                 ...   \n",
            "2381                                               None   \n",
            "2382                                               None   \n",
            "2393                                               None   \n",
            "2397                                               None   \n",
            "2400                                              17 °C   \n",
            "\n",
            "                          BoilingPoint  \\\n",
            "0      123 °F at 760 mmHg (USCG, 1999)   \n",
            "1                                 None   \n",
            "2     213.3 °F at 760 mmHg (NTP, 1992)   \n",
            "3                              1935 °C   \n",
            "4                                 None   \n",
            "...                                ...   \n",
            "2381                              None   \n",
            "2382                              None   \n",
            "2393                              None   \n",
            "2397                              None   \n",
            "2400          88.00 °C. @ 760.00 mm Hg   \n",
            "\n",
            "                                             Solubility  \\\n",
            "0                     82.3 g/100 g at 32 °F (NTP, 1992)   \n",
            "1                                 277000mg/L (at 25 °C)   \n",
            "2     greater than or equal to 100 mg/mL at 70 °F (N...   \n",
            "3                                  0.745g/mL (at 20 °C)   \n",
            "4                                                  None   \n",
            "...                                                 ...   \n",
            "2381                                               None   \n",
            "2382                                               None   \n",
            "2393                                               None   \n",
            "2397                                               None   \n",
            "2400        Soluble in water, diethyl ether and acetone   \n",
            "\n",
            "                                                  Graph  MeltingPoint_K  \\\n",
            "0     \\n     RDKit          2D\\n\\n  1  0  0  0  0  0...      158.372222   \n",
            "1     \\n     RDKit          2D\\n\\n  7  6  0  0  0  0...      563.729153   \n",
            "2     \\n     RDKit          2D\\n\\n  3  2  0  0  0  0...      281.538889   \n",
            "3     \\n     RDKit          2D\\n\\n  3  0  0  0  0  0...     1055.150000   \n",
            "4     \\n     RDKit          2D\\n\\n 19 18  0  0  0  0...      563.729153   \n",
            "...                                                 ...             ...   \n",
            "2381                                               None      563.729153   \n",
            "2382  \\n     RDKit          2D\\n\\n  7  4  0  0  0  0...      563.729153   \n",
            "2393  \\n     RDKit          2D\\n\\n  4  2  0  0  0  0...      563.729153   \n",
            "2397                                               None      563.729153   \n",
            "2400  \\n     RDKit          2D\\n\\n  4  3  0  0  0  0...      290.150000   \n",
            "\n",
            "      BoilingPoint_K  \n",
            "0         323.705556  \n",
            "1         746.612546  \n",
            "2         373.872222  \n",
            "3        2208.150000  \n",
            "4         746.612546  \n",
            "...              ...  \n",
            "2381      746.612546  \n",
            "2382      746.612546  \n",
            "2393      746.612546  \n",
            "2397      746.612546  \n",
            "2400      361.150000  \n",
            "\n",
            "[1004 rows x 13 columns]\n"
          ]
        }
      ]
    },
    {
      "cell_type": "code",
      "source": [
        "import pandas as pd\n",
        "from sklearn.model_selection import train_test_split\n",
        "from sklearn.preprocessing import OneHotEncoder\n",
        "X = p[['Chemical_name', 'Category', 'SMILES', 'NumRadicalElectrons',\n",
        "       'MinPartialCharge', 'Kappa2', 'Kappa3', 'BoilingPoint_K']]\n",
        "y = p['MeltingPoint_K']\n",
        "encoder = OneHotEncoder()\n",
        "X_encoded = encoder.fit_transform(X)\n",
        "X_train_encoded, X_test_encoded, y_train, y_test = train_test_split(X_encoded, y, test_size=0.2, random_state=42)\n",
        "print(\"Training set feature names:\", encoder.get_feature_names_out())\n",
        "print(\"Test set feature names:\", encoder.get_feature_names_out())\n"
      ],
      "metadata": {
        "colab": {
          "base_uri": "https://localhost:8080/"
        },
        "id": "Mx-BXq29GbeC",
        "outputId": "2a2de98c-071d-4d81-dda1-f2c1ffe8b575"
      },
      "execution_count": null,
      "outputs": [
        {
          "output_type": "stream",
          "name": "stdout",
          "text": [
            "Training set feature names: ['Chemical_name_(-)-Quinic acid' 'Chemical_name_(-)-Shikimic acid'\n",
            " 'Chemical_name_(1R,2R)-(-)-1,2-Cyclohexanedicarboxylic acid' ...\n",
            " 'BoilingPoint_K_3873.15' 'BoilingPoint_K_4273.15'\n",
            " 'BoilingPoint_K_5098.15']\n",
            "Test set feature names: ['Chemical_name_(-)-Quinic acid' 'Chemical_name_(-)-Shikimic acid'\n",
            " 'Chemical_name_(1R,2R)-(-)-1,2-Cyclohexanedicarboxylic acid' ...\n",
            " 'BoilingPoint_K_3873.15' 'BoilingPoint_K_4273.15'\n",
            " 'BoilingPoint_K_5098.15']\n"
          ]
        }
      ]
    },
    {
      "cell_type": "code",
      "source": [
        "import numpy as np\n",
        "X_train_array = X_train_encoded.toarray()\n",
        "X_test_array = X_test_encoded.toarray()\n",
        "print(\"Data type of X_train_array:\", type(X_train_array))\n",
        "print(\"Data type of X_test_array:\", type(X_test_array))\n"
      ],
      "metadata": {
        "colab": {
          "base_uri": "https://localhost:8080/"
        },
        "id": "_UIqMXOYTuzz",
        "outputId": "7b6e6ff9-2efb-46aa-8a5e-4d8ba2edab22"
      },
      "execution_count": null,
      "outputs": [
        {
          "output_type": "stream",
          "name": "stdout",
          "text": [
            "Data type of X_train_array: <class 'numpy.ndarray'>\n",
            "Data type of X_test_array: <class 'numpy.ndarray'>\n"
          ]
        }
      ]
    },
    {
      "cell_type": "code",
      "source": [
        "import xgboost as xgb\n",
        "from sklearn.metrics import mean_squared_error\n",
        "model = xgb.XGBRegressor()\n",
        "model.fit(X_train_array, y_train)\n",
        "y_pred = model.predict(X_test_array)\n",
        "r_squared = model.score(X_test_array, y_test)\n",
        "print(\"R-squared:\", r_squared)"
      ],
      "metadata": {
        "colab": {
          "base_uri": "https://localhost:8080/"
        },
        "id": "wIl2WKARPZ5t",
        "outputId": "1dc1a605-e3ab-4fb0-e1c4-5be2314c2467"
      },
      "execution_count": null,
      "outputs": [
        {
          "output_type": "stream",
          "name": "stdout",
          "text": [
            "R-squared: 0.31884397407054754\n"
          ]
        }
      ]
    }
  ]
}